{
 "cells": [
  {
   "cell_type": "markdown",
   "id": "44aeb253",
   "metadata": {},
   "source": [
    "# NUMPY"
   ]
  },
  {
   "cell_type": "code",
   "execution_count": 1,
   "id": "b9a0c33e",
   "metadata": {},
   "outputs": [],
   "source": [
    "### numpy \n",
    "\n",
    "import numpy as np"
   ]
  },
  {
   "cell_type": "code",
   "execution_count": 2,
   "id": "48e80baa",
   "metadata": {},
   "outputs": [],
   "source": [
    "### creating the list \n",
    "\n",
    "python_list=[1,2,3,4,-5]"
   ]
  },
  {
   "cell_type": "code",
   "execution_count": 3,
   "id": "4e4c5d26",
   "metadata": {},
   "outputs": [
    {
     "data": {
      "text/plain": [
       "[1, 2, 3, 4, -5]"
      ]
     },
     "execution_count": 3,
     "metadata": {},
     "output_type": "execute_result"
    }
   ],
   "source": [
    "### displaying the python list\n",
    "\n",
    "python_list"
   ]
  },
  {
   "cell_type": "code",
   "execution_count": 4,
   "id": "f482fd5b",
   "metadata": {},
   "outputs": [],
   "source": [
    "### converting the list into array\n",
    "\n",
    "numpy_array=np.array(python_list)"
   ]
  },
  {
   "cell_type": "code",
   "execution_count": 5,
   "id": "5a4a1cab",
   "metadata": {},
   "outputs": [
    {
     "data": {
      "text/plain": [
       "array([ 1,  2,  3,  4, -5])"
      ]
     },
     "execution_count": 5,
     "metadata": {},
     "output_type": "execute_result"
    }
   ],
   "source": [
    "### displaying the array which was converted from the list\n",
    "\n",
    "numpy_array"
   ]
  },
  {
   "cell_type": "code",
   "execution_count": 6,
   "id": "fe0f367e",
   "metadata": {},
   "outputs": [
    {
     "name": "stdout",
     "output_type": "stream",
     "text": [
      "<class 'numpy.ndarray'>\n"
     ]
    }
   ],
   "source": [
    "### printing the type of the variable\n",
    "\n",
    "print(type(numpy_array))"
   ]
  },
  {
   "cell_type": "code",
   "execution_count": 7,
   "id": "ed64a274",
   "metadata": {},
   "outputs": [
    {
     "data": {
      "text/plain": [
       "(5,)"
      ]
     },
     "execution_count": 7,
     "metadata": {},
     "output_type": "execute_result"
    }
   ],
   "source": [
    "### shape attribute return the tuple representing the size of each dimension\n",
    "### if it is 1d it just give one value that is the number of elements in the array\n",
    "\n",
    "numpy_array.shape"
   ]
  },
  {
   "cell_type": "code",
   "execution_count": 8,
   "id": "18f1eb35",
   "metadata": {},
   "outputs": [
    {
     "data": {
      "text/plain": [
       "1"
      ]
     },
     "execution_count": 8,
     "metadata": {},
     "output_type": "execute_result"
    }
   ],
   "source": [
    "### length\n",
    "\n",
    "len(numpy_array.shape)"
   ]
  },
  {
   "cell_type": "code",
   "execution_count": 9,
   "id": "58510892",
   "metadata": {},
   "outputs": [
    {
     "data": {
      "text/plain": [
       "1"
      ]
     },
     "execution_count": 9,
     "metadata": {},
     "output_type": "execute_result"
    }
   ],
   "source": [
    "### ndim attribute gives you the number of dimensions the array is\n",
    "numpy_array.ndim"
   ]
  },
  {
   "cell_type": "code",
   "execution_count": 10,
   "id": "4c2c0f37",
   "metadata": {},
   "outputs": [
    {
     "data": {
      "text/plain": [
       "4"
      ]
     },
     "execution_count": 10,
     "metadata": {},
     "output_type": "execute_result"
    }
   ],
   "source": [
    "numpy_array.itemsize"
   ]
  },
  {
   "cell_type": "markdown",
   "id": "42790472",
   "metadata": {},
   "source": [
    "**2D array**"
   ]
  },
  {
   "cell_type": "code",
   "execution_count": 11,
   "id": "811d9865",
   "metadata": {},
   "outputs": [],
   "source": [
    "### creating the 2d array\n",
    "\n",
    "python_list_list=[[1,2,3],[4,5,6]]"
   ]
  },
  {
   "cell_type": "code",
   "execution_count": 12,
   "id": "329a2900",
   "metadata": {},
   "outputs": [
    {
     "data": {
      "text/plain": [
       "[[1, 2, 3], [4, 5, 6]]"
      ]
     },
     "execution_count": 12,
     "metadata": {},
     "output_type": "execute_result"
    }
   ],
   "source": [
    "python_list_list"
   ]
  },
  {
   "cell_type": "code",
   "execution_count": 13,
   "id": "6b3e922a",
   "metadata": {},
   "outputs": [],
   "source": [
    "### converting the python list to array\n",
    "\n",
    "numpy_array_array=np.array(python_list_list)"
   ]
  },
  {
   "cell_type": "code",
   "execution_count": 14,
   "id": "1910a105",
   "metadata": {},
   "outputs": [
    {
     "data": {
      "text/plain": [
       "array([[1, 2, 3],\n",
       "       [4, 5, 6]])"
      ]
     },
     "execution_count": 14,
     "metadata": {},
     "output_type": "execute_result"
    }
   ],
   "source": [
    "### displaying the 2d array\n",
    "\n",
    "numpy_array_array"
   ]
  },
  {
   "cell_type": "code",
   "execution_count": 15,
   "id": "82a7f026",
   "metadata": {},
   "outputs": [
    {
     "data": {
      "text/plain": [
       "(2, 3)"
      ]
     },
     "execution_count": 15,
     "metadata": {},
     "output_type": "execute_result"
    }
   ],
   "source": [
    "## the output values of the array is like (rows,columns) the shape attribute return the tuple representing the size of the array\n",
    "\n",
    "numpy_array_array.shape"
   ]
  },
  {
   "cell_type": "code",
   "execution_count": 16,
   "id": "edb80ab2",
   "metadata": {},
   "outputs": [
    {
     "data": {
      "text/plain": [
       "2"
      ]
     },
     "execution_count": 16,
     "metadata": {},
     "output_type": "execute_result"
    }
   ],
   "source": [
    "### lenght of the tuple \n",
    "\n",
    "len(numpy_array_array.shape)"
   ]
  },
  {
   "cell_type": "code",
   "execution_count": 17,
   "id": "a2da62ce",
   "metadata": {},
   "outputs": [
    {
     "data": {
      "text/plain": [
       "2"
      ]
     },
     "execution_count": 17,
     "metadata": {},
     "output_type": "execute_result"
    }
   ],
   "source": [
    "### finding the array dimension\n",
    "numpy_array_array.ndim"
   ]
  },
  {
   "cell_type": "markdown",
   "id": "2f963eec",
   "metadata": {},
   "source": [
    "***random values***"
   ]
  },
  {
   "cell_type": "code",
   "execution_count": 18,
   "id": "220095b6",
   "metadata": {},
   "outputs": [
    {
     "data": {
      "text/plain": [
       "array([0, 1, 2, 3, 4, 5, 6, 7, 8, 9])"
      ]
     },
     "execution_count": 18,
     "metadata": {},
     "output_type": "execute_result"
    }
   ],
   "source": [
    "### arange function\n",
    "\n",
    "np.arange(10)"
   ]
  },
  {
   "cell_type": "code",
   "execution_count": 19,
   "id": "272c8465",
   "metadata": {},
   "outputs": [
    {
     "data": {
      "text/plain": [
       "5"
      ]
     },
     "execution_count": 19,
     "metadata": {},
     "output_type": "execute_result"
    }
   ],
   "source": [
    "### random value between 1 to 11\n",
    "\n",
    "np.random.randint(1,11)"
   ]
  },
  {
   "cell_type": "code",
   "execution_count": 20,
   "id": "3392e99c",
   "metadata": {},
   "outputs": [
    {
     "data": {
      "text/plain": [
       "array([9, 6, 3, 8, 5])"
      ]
     },
     "execution_count": 20,
     "metadata": {},
     "output_type": "execute_result"
    }
   ],
   "source": [
    "### set random values between 1 to 11 and here 5 represents give 5 values\n",
    "\n",
    "np.random.randint(1,11,5)"
   ]
  },
  {
   "cell_type": "code",
   "execution_count": 21,
   "id": "4131bd24",
   "metadata": {},
   "outputs": [
    {
     "data": {
      "text/plain": [
       "array([[0.97085761, 0.76556958],\n",
       "       [0.0662595 , 0.00099561]])"
      ]
     },
     "execution_count": 21,
     "metadata": {},
     "output_type": "execute_result"
    }
   ],
   "source": [
    "### random values in the 2d array format.\n",
    "\n",
    "np.random.rand(2,2)"
   ]
  },
  {
   "cell_type": "code",
   "execution_count": 22,
   "id": "ce31deab",
   "metadata": {},
   "outputs": [
    {
     "data": {
      "text/plain": [
       "array([[2, 0],\n",
       "       [0, 3]])"
      ]
     },
     "execution_count": 22,
     "metadata": {},
     "output_type": "execute_result"
    }
   ],
   "source": [
    "### generating the random values from 0 to 5 with the 2d array format\n",
    "\n",
    "np.random.randint(0,5,(2,2))"
   ]
  },
  {
   "cell_type": "code",
   "execution_count": 23,
   "id": "5220422a",
   "metadata": {},
   "outputs": [
    {
     "data": {
      "text/plain": [
       "array([[4, 3],\n",
       "       [2, 0]])"
      ]
     },
     "execution_count": 23,
     "metadata": {},
     "output_type": "execute_result"
    }
   ],
   "source": [
    "### generating the random values from 0 to 5 using size attribute\n",
    "\n",
    "np.random.randint(5,size=(2,2))"
   ]
  },
  {
   "cell_type": "code",
   "execution_count": 24,
   "id": "359cb008",
   "metadata": {},
   "outputs": [
    {
     "data": {
      "text/plain": [
       "array([0., 0.])"
      ]
     },
     "execution_count": 24,
     "metadata": {},
     "output_type": "execute_result"
    }
   ],
   "source": [
    "### array of zeros\n",
    "np.zeros(2)"
   ]
  },
  {
   "cell_type": "code",
   "execution_count": 25,
   "id": "23dc0e99",
   "metadata": {},
   "outputs": [
    {
     "data": {
      "text/plain": [
       "array([0, 0])"
      ]
     },
     "execution_count": 25,
     "metadata": {},
     "output_type": "execute_result"
    }
   ],
   "source": [
    "### array of zeros with int data type\n",
    "np.zeros(2,dtype=int)"
   ]
  },
  {
   "cell_type": "code",
   "execution_count": 26,
   "id": "9c1e8e8b",
   "metadata": {},
   "outputs": [
    {
     "data": {
      "text/plain": [
       "array([1., 1.])"
      ]
     },
     "execution_count": 26,
     "metadata": {},
     "output_type": "execute_result"
    }
   ],
   "source": [
    "### array of ones \n",
    "\n",
    "np.ones(2)"
   ]
  },
  {
   "cell_type": "code",
   "execution_count": 27,
   "id": "dd56be9e",
   "metadata": {},
   "outputs": [
    {
     "data": {
      "text/plain": [
       "array([1, 1])"
      ]
     },
     "execution_count": 27,
     "metadata": {},
     "output_type": "execute_result"
    }
   ],
   "source": [
    "np.ones(2,dtype=int)"
   ]
  },
  {
   "cell_type": "code",
   "execution_count": 28,
   "id": "2b785a09",
   "metadata": {},
   "outputs": [
    {
     "data": {
      "text/plain": [
       "dtype('int32')"
      ]
     },
     "execution_count": 28,
     "metadata": {},
     "output_type": "execute_result"
    }
   ],
   "source": [
    "### finding the data type of the array \n",
    "numpy_array.dtype"
   ]
  },
  {
   "cell_type": "code",
   "execution_count": 29,
   "id": "29a7d69b",
   "metadata": {},
   "outputs": [],
   "source": [
    "value_array=np.array([1.3,5.4,8.6])"
   ]
  },
  {
   "cell_type": "code",
   "execution_count": 30,
   "id": "bd7801bc",
   "metadata": {},
   "outputs": [
    {
     "data": {
      "text/plain": [
       "array([1.3, 5.4, 8.6])"
      ]
     },
     "execution_count": 30,
     "metadata": {},
     "output_type": "execute_result"
    }
   ],
   "source": [
    "value_array"
   ]
  },
  {
   "cell_type": "code",
   "execution_count": 31,
   "id": "f2de8a9b",
   "metadata": {},
   "outputs": [
    {
     "data": {
      "text/plain": [
       "array([1, 5, 8])"
      ]
     },
     "execution_count": 31,
     "metadata": {},
     "output_type": "execute_result"
    }
   ],
   "source": [
    "### converting the float array to int array using [astype(int)]\n",
    "value_array.astype(int)"
   ]
  },
  {
   "cell_type": "code",
   "execution_count": 32,
   "id": "a2d0d8b7",
   "metadata": {},
   "outputs": [
    {
     "data": {
      "text/plain": [
       "array([[0.07313072, 0.99143374, 0.61617345, 0.11853288, 0.30947997],\n",
       "       [0.25134677, 0.74432602, 0.11079172, 0.17840321, 0.04586177],\n",
       "       [0.87807274, 0.2239112 , 0.83983522, 0.04880409, 0.60002831],\n",
       "       [0.84246235, 0.94076064, 0.01104901, 0.51495171, 0.54307122],\n",
       "       [0.47161687, 0.38401136, 0.59210115, 0.91230825, 0.69408818]])"
      ]
     },
     "execution_count": 32,
     "metadata": {},
     "output_type": "execute_result"
    }
   ],
   "source": [
    "## slicing the array\n",
    "arr=np.random.rand(5,5)\n",
    "arr"
   ]
  },
  {
   "cell_type": "code",
   "execution_count": 33,
   "id": "d0edf52f",
   "metadata": {},
   "outputs": [
    {
     "data": {
      "text/plain": [
       "array([0.47161687, 0.38401136, 0.59210115, 0.91230825, 0.69408818])"
      ]
     },
     "execution_count": 33,
     "metadata": {},
     "output_type": "execute_result"
    }
   ],
   "source": [
    "### accessing the row\n",
    "arr[4]"
   ]
  },
  {
   "cell_type": "code",
   "execution_count": 34,
   "id": "2a70529f",
   "metadata": {},
   "outputs": [
    {
     "data": {
      "text/plain": [
       "array([0.47161687, 0.38401136, 0.59210115, 0.91230825])"
      ]
     },
     "execution_count": 34,
     "metadata": {},
     "output_type": "execute_result"
    }
   ],
   "source": [
    "arr[4,0:4]"
   ]
  },
  {
   "cell_type": "code",
   "execution_count": 35,
   "id": "8dc2b6ed",
   "metadata": {},
   "outputs": [
    {
     "data": {
      "text/plain": [
       "array([0.30947997, 0.04586177, 0.60002831, 0.54307122, 0.69408818])"
      ]
     },
     "execution_count": 35,
     "metadata": {},
     "output_type": "execute_result"
    }
   ],
   "source": [
    "### accessing the column\n",
    "arr[:,4]"
   ]
  },
  {
   "cell_type": "code",
   "execution_count": 36,
   "id": "11e84c50",
   "metadata": {},
   "outputs": [
    {
     "data": {
      "text/plain": [
       "0.07313071841966756"
      ]
     },
     "execution_count": 36,
     "metadata": {},
     "output_type": "execute_result"
    }
   ],
   "source": [
    "### accessing the values\n",
    "arr[0,0]"
   ]
  },
  {
   "cell_type": "code",
   "execution_count": 37,
   "id": "d7d7c1d9",
   "metadata": {},
   "outputs": [
    {
     "data": {
      "text/plain": [
       "0.7443260156563574"
      ]
     },
     "execution_count": 37,
     "metadata": {},
     "output_type": "execute_result"
    }
   ],
   "source": [
    "### accessing the values\n",
    "arr[1][1]"
   ]
  },
  {
   "cell_type": "code",
   "execution_count": 38,
   "id": "1a119242",
   "metadata": {},
   "outputs": [
    {
     "data": {
      "text/plain": [
       "array([[0.07313072, 0.99143374, 0.61617345, 0.11853288, 0.30947997],\n",
       "       [0.25134677, 0.74432602, 0.11079172, 0.17840321, 0.04586177],\n",
       "       [0.87807274, 0.2239112 , 0.83983522, 0.04880409, 0.60002831],\n",
       "       [0.84246235, 0.94076064, 0.01104901, 0.51495171, 0.54307122]])"
      ]
     },
     "execution_count": 38,
     "metadata": {},
     "output_type": "execute_result"
    }
   ],
   "source": [
    "### getting 4 rows and 5 columns\n",
    "arr[:4]"
   ]
  },
  {
   "cell_type": "code",
   "execution_count": 39,
   "id": "db98afc9",
   "metadata": {},
   "outputs": [
    {
     "data": {
      "text/plain": [
       "array([[0.07313072, 0.99143374, 0.61617345, 0.11853288],\n",
       "       [0.25134677, 0.74432602, 0.11079172, 0.17840321],\n",
       "       [0.87807274, 0.2239112 , 0.83983522, 0.04880409],\n",
       "       [0.84246235, 0.94076064, 0.01104901, 0.51495171],\n",
       "       [0.47161687, 0.38401136, 0.59210115, 0.91230825]])"
      ]
     },
     "execution_count": 39,
     "metadata": {},
     "output_type": "execute_result"
    }
   ],
   "source": [
    "### getting 5 rows and 4 columns \n",
    "arr[:,:4]"
   ]
  },
  {
   "cell_type": "code",
   "execution_count": 40,
   "id": "48d1eaae",
   "metadata": {},
   "outputs": [
    {
     "data": {
      "text/plain": [
       "(4, 5)"
      ]
     },
     "execution_count": 40,
     "metadata": {},
     "output_type": "execute_result"
    }
   ],
   "source": [
    "### getting 4 rows and 5 columns\n",
    "arr[:4].shape"
   ]
  },
  {
   "cell_type": "code",
   "execution_count": 41,
   "id": "91374f19",
   "metadata": {},
   "outputs": [
    {
     "data": {
      "text/plain": [
       "array([[0.25134677, 0.74432602, 0.11079172, 0.17840321],\n",
       "       [0.87807274, 0.2239112 , 0.83983522, 0.04880409],\n",
       "       [0.84246235, 0.94076064, 0.01104901, 0.51495171]])"
      ]
     },
     "execution_count": 41,
     "metadata": {},
     "output_type": "execute_result"
    }
   ],
   "source": [
    "### getting 3 rows and 4 columns\n",
    "arr[1:4,0:4]"
   ]
  },
  {
   "cell_type": "code",
   "execution_count": 42,
   "id": "b92a9a3b",
   "metadata": {},
   "outputs": [
    {
     "data": {
      "text/plain": [
       "array([[0.07313072, 0.99143374, 0.61617345, 0.11853288, 0.30947997],\n",
       "       [0.25134677, 0.74432602, 0.11079172, 0.17840321, 0.04586177],\n",
       "       [0.87807274, 0.2239112 , 0.83983522, 0.04880409, 0.60002831]])"
      ]
     },
     "execution_count": 42,
     "metadata": {},
     "output_type": "execute_result"
    }
   ],
   "source": [
    "arr[:-2]"
   ]
  },
  {
   "cell_type": "code",
   "execution_count": 43,
   "id": "23774d5a",
   "metadata": {},
   "outputs": [],
   "source": [
    "value_value=np.random.randint(5,size=(6,8))"
   ]
  },
  {
   "cell_type": "code",
   "execution_count": 44,
   "id": "f9aebbdf",
   "metadata": {},
   "outputs": [
    {
     "data": {
      "text/plain": [
       "array([[0, 0, 3, 2, 1, 2, 4, 4],\n",
       "       [2, 2, 1, 0, 0, 3, 3, 4],\n",
       "       [2, 2, 0, 3, 1, 4, 2, 1],\n",
       "       [4, 0, 3, 3, 0, 0, 0, 3],\n",
       "       [2, 4, 4, 3, 2, 3, 0, 2],\n",
       "       [4, 4, 4, 4, 0, 1, 4, 1]])"
      ]
     },
     "execution_count": 44,
     "metadata": {},
     "output_type": "execute_result"
    }
   ],
   "source": [
    "value_value"
   ]
  },
  {
   "cell_type": "code",
   "execution_count": 45,
   "id": "836a33df",
   "metadata": {},
   "outputs": [],
   "source": [
    "value_value_0=value_value[0]"
   ]
  },
  {
   "cell_type": "code",
   "execution_count": 46,
   "id": "91d4d9b0",
   "metadata": {},
   "outputs": [
    {
     "data": {
      "text/plain": [
       "array([0, 0, 3, 2, 1, 2, 4, 4])"
      ]
     },
     "execution_count": 46,
     "metadata": {},
     "output_type": "execute_result"
    }
   ],
   "source": [
    "value_value_0"
   ]
  },
  {
   "cell_type": "code",
   "execution_count": 47,
   "id": "521a502e",
   "metadata": {},
   "outputs": [],
   "source": [
    "values_012=(value_value_0==0) | (value_value_0==1) | (value_value_0==2)"
   ]
  },
  {
   "cell_type": "code",
   "execution_count": 48,
   "id": "73d94eb6",
   "metadata": {},
   "outputs": [
    {
     "data": {
      "text/plain": [
       "array([ True,  True, False,  True,  True,  True, False, False])"
      ]
     },
     "execution_count": 48,
     "metadata": {},
     "output_type": "execute_result"
    }
   ],
   "source": [
    "values_012"
   ]
  },
  {
   "cell_type": "code",
   "execution_count": 49,
   "id": "18ee8e74",
   "metadata": {},
   "outputs": [
    {
     "data": {
      "text/plain": [
       "array([0, 0, 2, 1, 2])"
      ]
     },
     "execution_count": 49,
     "metadata": {},
     "output_type": "execute_result"
    }
   ],
   "source": [
    "value_value_0[values_012]"
   ]
  },
  {
   "cell_type": "markdown",
   "id": "392ef7e9",
   "metadata": {},
   "source": [
    "# Transposing"
   ]
  },
  {
   "cell_type": "code",
   "execution_count": 50,
   "id": "6562fdcb",
   "metadata": {},
   "outputs": [],
   "source": [
    "marks=[[1,2,3],[4,5,6],[7,8,9],[10,11,12]]"
   ]
  },
  {
   "cell_type": "code",
   "execution_count": 51,
   "id": "61072b9a",
   "metadata": {},
   "outputs": [],
   "source": [
    "trans=np.array(marks)"
   ]
  },
  {
   "cell_type": "code",
   "execution_count": 52,
   "id": "dd7039b4",
   "metadata": {},
   "outputs": [
    {
     "data": {
      "text/plain": [
       "array([[ 1,  2,  3],\n",
       "       [ 4,  5,  6],\n",
       "       [ 7,  8,  9],\n",
       "       [10, 11, 12]])"
      ]
     },
     "execution_count": 52,
     "metadata": {},
     "output_type": "execute_result"
    }
   ],
   "source": [
    "trans"
   ]
  },
  {
   "cell_type": "code",
   "execution_count": 53,
   "id": "96711372",
   "metadata": {},
   "outputs": [
    {
     "data": {
      "text/plain": [
       "array([[ 1,  4,  7, 10],\n",
       "       [ 2,  5,  8, 11],\n",
       "       [ 3,  6,  9, 12]])"
      ]
     },
     "execution_count": 53,
     "metadata": {},
     "output_type": "execute_result"
    }
   ],
   "source": [
    "trans.transpose()"
   ]
  },
  {
   "cell_type": "code",
   "execution_count": 54,
   "id": "9caa50d5",
   "metadata": {},
   "outputs": [
    {
     "data": {
      "text/plain": [
       "array([ 6, 15, 24, 33])"
      ]
     },
     "execution_count": 54,
     "metadata": {},
     "output_type": "execute_result"
    }
   ],
   "source": [
    "### axis=1 it does row wise addition\n",
    "trans.sum(axis=1)"
   ]
  },
  {
   "cell_type": "code",
   "execution_count": 55,
   "id": "0d8a4221",
   "metadata": {},
   "outputs": [
    {
     "data": {
      "text/plain": [
       "array([22, 26, 30])"
      ]
     },
     "execution_count": 55,
     "metadata": {},
     "output_type": "execute_result"
    }
   ],
   "source": [
    "### axis=0 it does column wise addition\n",
    "trans.sum(axis=0)"
   ]
  },
  {
   "cell_type": "code",
   "execution_count": 56,
   "id": "aa2ed805",
   "metadata": {},
   "outputs": [
    {
     "data": {
      "text/plain": [
       "array([22, 26, 30])"
      ]
     },
     "execution_count": 56,
     "metadata": {},
     "output_type": "execute_result"
    }
   ],
   "source": [
    "trans.transpose().sum(axis=1)"
   ]
  },
  {
   "cell_type": "code",
   "execution_count": 57,
   "id": "80a0df6d",
   "metadata": {},
   "outputs": [
    {
     "data": {
      "text/plain": [
       "array([[ 1,  2,  3],\n",
       "       [ 4,  5,  6],\n",
       "       [ 7,  8,  9],\n",
       "       [10, 11, 12]])"
      ]
     },
     "execution_count": 57,
     "metadata": {},
     "output_type": "execute_result"
    }
   ],
   "source": [
    "trans"
   ]
  },
  {
   "cell_type": "markdown",
   "id": "8d87765a",
   "metadata": {},
   "source": [
    "**broadcasting**"
   ]
  },
  {
   "cell_type": "code",
   "execution_count": 58,
   "id": "e0078005",
   "metadata": {},
   "outputs": [],
   "source": [
    "### Broadcasting , perform element wise operation on array of different shapes and sizes\n",
    "\n",
    "grace=np.array([1,2,3])"
   ]
  },
  {
   "cell_type": "code",
   "execution_count": 59,
   "id": "2e19287e",
   "metadata": {},
   "outputs": [
    {
     "data": {
      "text/plain": [
       "array([1, 2, 3])"
      ]
     },
     "execution_count": 59,
     "metadata": {},
     "output_type": "execute_result"
    }
   ],
   "source": [
    "grace"
   ]
  },
  {
   "cell_type": "code",
   "execution_count": 60,
   "id": "873c58ff",
   "metadata": {},
   "outputs": [
    {
     "data": {
      "text/plain": [
       "array([[ 2,  4,  6],\n",
       "       [ 5,  7,  9],\n",
       "       [ 8, 10, 12],\n",
       "       [11, 13, 15]])"
      ]
     },
     "execution_count": 60,
     "metadata": {},
     "output_type": "execute_result"
    }
   ],
   "source": [
    "trans+grace"
   ]
  },
  {
   "cell_type": "code",
   "execution_count": 61,
   "id": "2154a43a",
   "metadata": {},
   "outputs": [
    {
     "data": {
      "text/plain": [
       "(3,)"
      ]
     },
     "execution_count": 61,
     "metadata": {},
     "output_type": "execute_result"
    }
   ],
   "source": [
    "grace.shape"
   ]
  },
  {
   "cell_type": "code",
   "execution_count": 62,
   "id": "f80cc516",
   "metadata": {},
   "outputs": [
    {
     "data": {
      "text/plain": [
       "3"
      ]
     },
     "execution_count": 62,
     "metadata": {},
     "output_type": "execute_result"
    }
   ],
   "source": [
    "grace.size"
   ]
  },
  {
   "cell_type": "code",
   "execution_count": 63,
   "id": "e9ba0de9",
   "metadata": {},
   "outputs": [
    {
     "data": {
      "text/plain": [
       "1"
      ]
     },
     "execution_count": 63,
     "metadata": {},
     "output_type": "execute_result"
    }
   ],
   "source": [
    "grace.ndim"
   ]
  },
  {
   "cell_type": "code",
   "execution_count": 64,
   "id": "3f750662",
   "metadata": {},
   "outputs": [
    {
     "data": {
      "text/plain": [
       "array([[1],\n",
       "       [2],\n",
       "       [3]])"
      ]
     },
     "execution_count": 64,
     "metadata": {},
     "output_type": "execute_result"
    }
   ],
   "source": [
    "### converting the 1 dimension array to 2 dimension array \n",
    "\n",
    "_grace1=np.reshape(grace,(3,1))\n",
    "_grace1"
   ]
  },
  {
   "cell_type": "code",
   "execution_count": 65,
   "id": "04f1a4d5",
   "metadata": {},
   "outputs": [
    {
     "data": {
      "text/plain": [
       "array([[ 2,  5,  8, 11],\n",
       "       [ 4,  7, 10, 13],\n",
       "       [ 6,  9, 12, 15]])"
      ]
     },
     "execution_count": 65,
     "metadata": {},
     "output_type": "execute_result"
    }
   ],
   "source": [
    "trans.transpose()+_grace1"
   ]
  },
  {
   "cell_type": "code",
   "execution_count": 66,
   "id": "c4b22bfc",
   "metadata": {},
   "outputs": [
    {
     "data": {
      "text/plain": [
       "array([[1],\n",
       "       [2],\n",
       "       [3]])"
      ]
     },
     "execution_count": 66,
     "metadata": {},
     "output_type": "execute_result"
    }
   ],
   "source": [
    "#### converting the 1dimension array to 2dimension array \n",
    "\n",
    "grace2=grace[:, np.newaxis]\n",
    "grace2"
   ]
  },
  {
   "cell_type": "code",
   "execution_count": 67,
   "id": "6b2677eb",
   "metadata": {},
   "outputs": [
    {
     "data": {
      "text/plain": [
       "array([[1, 2, 3, 4]])"
      ]
     },
     "execution_count": 67,
     "metadata": {},
     "output_type": "execute_result"
    }
   ],
   "source": [
    "#### using transpose for broadcasting \n",
    "grace3=np.array([[1,2,3,4]])\n",
    "grace3"
   ]
  },
  {
   "cell_type": "code",
   "execution_count": 68,
   "id": "effade51",
   "metadata": {},
   "outputs": [
    {
     "data": {
      "text/plain": [
       "array([[1],\n",
       "       [2],\n",
       "       [3],\n",
       "       [4]])"
      ]
     },
     "execution_count": 68,
     "metadata": {},
     "output_type": "execute_result"
    }
   ],
   "source": [
    "grace3.T"
   ]
  },
  {
   "cell_type": "code",
   "execution_count": 69,
   "id": "c8080c1d",
   "metadata": {},
   "outputs": [
    {
     "data": {
      "text/plain": [
       "array([[ 2,  3,  4],\n",
       "       [ 6,  7,  8],\n",
       "       [10, 11, 12],\n",
       "       [14, 15, 16]])"
      ]
     },
     "execution_count": 69,
     "metadata": {},
     "output_type": "execute_result"
    }
   ],
   "source": [
    "trans+grace3.T"
   ]
  },
  {
   "cell_type": "markdown",
   "id": "872ff5e9",
   "metadata": {},
   "source": [
    "# matrix multiplication"
   ]
  },
  {
   "cell_type": "code",
   "execution_count": 70,
   "id": "417bf628",
   "metadata": {},
   "outputs": [],
   "source": [
    "markss=np.array([[1,2,3,4],[5,6,7,8],[9,10,11,12]])"
   ]
  },
  {
   "cell_type": "code",
   "execution_count": 71,
   "id": "a5d06dd3",
   "metadata": {},
   "outputs": [
    {
     "data": {
      "text/plain": [
       "array([[ 1,  2,  3,  4],\n",
       "       [ 5,  6,  7,  8],\n",
       "       [ 9, 10, 11, 12]])"
      ]
     },
     "execution_count": 71,
     "metadata": {},
     "output_type": "execute_result"
    }
   ],
   "source": [
    "markss"
   ]
  },
  {
   "cell_type": "code",
   "execution_count": 72,
   "id": "2249da83",
   "metadata": {},
   "outputs": [
    {
     "data": {
      "text/plain": [
       "3"
      ]
     },
     "execution_count": 72,
     "metadata": {},
     "output_type": "execute_result"
    }
   ],
   "source": [
    "len(markss)"
   ]
  },
  {
   "cell_type": "code",
   "execution_count": 73,
   "id": "337fa2bc",
   "metadata": {},
   "outputs": [],
   "source": [
    "good=np.array([[0.4,0.2,0.2,0.2]])"
   ]
  },
  {
   "cell_type": "code",
   "execution_count": 74,
   "id": "488a4da4",
   "metadata": {},
   "outputs": [],
   "source": [
    "weights=np.array([[0.4,0.2,0.2,0.2]]).transpose()"
   ]
  },
  {
   "cell_type": "code",
   "execution_count": 75,
   "id": "c3b2d58f",
   "metadata": {},
   "outputs": [
    {
     "data": {
      "text/plain": [
       "array([[0.4],\n",
       "       [0.2],\n",
       "       [0.2],\n",
       "       [0.2]])"
      ]
     },
     "execution_count": 75,
     "metadata": {},
     "output_type": "execute_result"
    }
   ],
   "source": [
    "weights"
   ]
  },
  {
   "cell_type": "code",
   "execution_count": 76,
   "id": "e7e6d4c7",
   "metadata": {},
   "outputs": [
    {
     "data": {
      "text/plain": [
       "4"
      ]
     },
     "execution_count": 76,
     "metadata": {},
     "output_type": "execute_result"
    }
   ],
   "source": [
    "len(weights)"
   ]
  },
  {
   "cell_type": "code",
   "execution_count": 77,
   "id": "d8148db7",
   "metadata": {},
   "outputs": [
    {
     "data": {
      "text/plain": [
       "array([[ 2.2],\n",
       "       [ 6.2],\n",
       "       [10.2]])"
      ]
     },
     "execution_count": 77,
     "metadata": {},
     "output_type": "execute_result"
    }
   ],
   "source": [
    "### dot product of the matrix\n",
    "np.dot(markss,weights)"
   ]
  },
  {
   "cell_type": "code",
   "execution_count": 78,
   "id": "8a8d2487",
   "metadata": {},
   "outputs": [
    {
     "data": {
      "text/plain": [
       "array([[ 2.2],\n",
       "       [ 6.2],\n",
       "       [10.2]])"
      ]
     },
     "execution_count": 78,
     "metadata": {},
     "output_type": "execute_result"
    }
   ],
   "source": [
    "###  matmul in numpy allows the matrix multiplication\n",
    "np.matmul(markss,weights)"
   ]
  },
  {
   "cell_type": "code",
   "execution_count": 79,
   "id": "d98849cb",
   "metadata": {},
   "outputs": [
    {
     "data": {
      "text/plain": [
       "array([[0.4, 0.4, 0.6, 0.8],\n",
       "       [2. , 1.2, 1.4, 1.6],\n",
       "       [3.6, 2. , 2.2, 2.4]])"
      ]
     },
     "execution_count": 79,
     "metadata": {},
     "output_type": "execute_result"
    }
   ],
   "source": [
    "### element wise multiplication is happening , this will happen when there is not transpose method.\n",
    "markss*good"
   ]
  },
  {
   "cell_type": "code",
   "execution_count": 80,
   "id": "61b4d20d",
   "metadata": {},
   "outputs": [
    {
     "data": {
      "text/plain": [
       "array([[1., 0., 0.],\n",
       "       [0., 1., 0.],\n",
       "       [0., 0., 1.]])"
      ]
     },
     "execution_count": 80,
     "metadata": {},
     "output_type": "execute_result"
    }
   ],
   "source": [
    "## identity matrix (diagonal elements are ones)\n",
    "np.eye(3)"
   ]
  },
  {
   "cell_type": "code",
   "execution_count": 81,
   "id": "a0c132a4",
   "metadata": {},
   "outputs": [
    {
     "data": {
      "text/plain": [
       "array([[1, 0, 0],\n",
       "       [0, 2, 0],\n",
       "       [0, 0, 3]])"
      ]
     },
     "execution_count": 81,
     "metadata": {},
     "output_type": "execute_result"
    }
   ],
   "source": [
    "## diagonal function ( creates the diagonal function with the values provided)\n",
    "a=np.diag([1,2,3])\n",
    "a"
   ]
  },
  {
   "cell_type": "code",
   "execution_count": 82,
   "id": "3cc013fe",
   "metadata": {},
   "outputs": [
    {
     "data": {
      "text/plain": [
       "array([1, 2, 3])"
      ]
     },
     "execution_count": 82,
     "metadata": {},
     "output_type": "execute_result"
    }
   ],
   "source": [
    "np.diag(a)"
   ]
  },
  {
   "cell_type": "markdown",
   "id": "e20c4bfa",
   "metadata": {},
   "source": [
    "**operations**"
   ]
  },
  {
   "cell_type": "code",
   "execution_count": 83,
   "id": "774119e2",
   "metadata": {},
   "outputs": [],
   "source": [
    "e=np.array([0,1,4,3])"
   ]
  },
  {
   "cell_type": "code",
   "execution_count": 84,
   "id": "23de615e",
   "metadata": {},
   "outputs": [
    {
     "data": {
      "text/plain": [
       "array([ 0.        ,  0.84147098, -0.7568025 ,  0.14112001])"
      ]
     },
     "execution_count": 84,
     "metadata": {},
     "output_type": "execute_result"
    }
   ],
   "source": [
    "## sin values of the e\n",
    "np.sin(e)"
   ]
  },
  {
   "cell_type": "code",
   "execution_count": 85,
   "id": "f598a296",
   "metadata": {},
   "outputs": [
    {
     "name": "stderr",
     "output_type": "stream",
     "text": [
      "C:\\Users\\saik3\\AppData\\Local\\Temp\\ipykernel_1072\\1702208384.py:2: RuntimeWarning: divide by zero encountered in log\n",
      "  np.log(e)\n"
     ]
    },
    {
     "data": {
      "text/plain": [
       "array([      -inf, 0.        , 1.38629436, 1.09861229])"
      ]
     },
     "execution_count": 85,
     "metadata": {},
     "output_type": "execute_result"
    }
   ],
   "source": [
    "## log values of the e\n",
    "np.log(e)"
   ]
  },
  {
   "cell_type": "code",
   "execution_count": 86,
   "id": "3fea4595",
   "metadata": {},
   "outputs": [
    {
     "data": {
      "text/plain": [
       "array([ 1.        ,  2.71828183, 54.59815003, 20.08553692])"
      ]
     },
     "execution_count": 86,
     "metadata": {},
     "output_type": "execute_result"
    }
   ],
   "source": [
    "## exponent values of e\n",
    "np.exp(e)"
   ]
  },
  {
   "cell_type": "code",
   "execution_count": 87,
   "id": "8f2940fe",
   "metadata": {},
   "outputs": [
    {
     "data": {
      "text/plain": [
       "array([ True,  True,  True, False])"
      ]
     },
     "execution_count": 87,
     "metadata": {},
     "output_type": "execute_result"
    }
   ],
   "source": [
    "### logical and and or\n",
    "\n",
    "d=np.array([1,1,0,0],dtype=bool)\n",
    "r=np.array([1,0,1,0],dtype=bool)\n",
    "np.logical_or(d,r)"
   ]
  },
  {
   "cell_type": "code",
   "execution_count": 88,
   "id": "31cc407f",
   "metadata": {},
   "outputs": [
    {
     "data": {
      "text/plain": [
       "array([ True, False, False, False])"
      ]
     },
     "execution_count": 88,
     "metadata": {},
     "output_type": "execute_result"
    }
   ],
   "source": [
    "np.logical_and(d,r)"
   ]
  },
  {
   "cell_type": "code",
   "execution_count": 89,
   "id": "aebad86c",
   "metadata": {},
   "outputs": [
    {
     "data": {
      "text/plain": [
       "2"
      ]
     },
     "execution_count": 89,
     "metadata": {},
     "output_type": "execute_result"
    }
   ],
   "source": [
    "### argmax value gives the index values of the highest element\n",
    "np.argmax(e)"
   ]
  },
  {
   "cell_type": "code",
   "execution_count": 90,
   "id": "f97c2984",
   "metadata": {},
   "outputs": [
    {
     "data": {
      "text/plain": [
       "0"
      ]
     },
     "execution_count": 90,
     "metadata": {},
     "output_type": "execute_result"
    }
   ],
   "source": [
    "### argmin value gives the index values of the lowest element\n",
    "np.argmin(e)"
   ]
  },
  {
   "cell_type": "code",
   "execution_count": 91,
   "id": "b8cef371",
   "metadata": {},
   "outputs": [
    {
     "data": {
      "text/plain": [
       "4"
      ]
     },
     "execution_count": 91,
     "metadata": {},
     "output_type": "execute_result"
    }
   ],
   "source": [
    "np.max(e)"
   ]
  },
  {
   "cell_type": "code",
   "execution_count": 92,
   "id": "ab85d2e7",
   "metadata": {},
   "outputs": [
    {
     "data": {
      "text/plain": [
       "0"
      ]
     },
     "execution_count": 92,
     "metadata": {},
     "output_type": "execute_result"
    }
   ],
   "source": [
    "np.min(e)"
   ]
  },
  {
   "cell_type": "code",
   "execution_count": 93,
   "id": "bc664b31",
   "metadata": {},
   "outputs": [
    {
     "data": {
      "text/plain": [
       "1.5811388300841898"
      ]
     },
     "execution_count": 93,
     "metadata": {},
     "output_type": "execute_result"
    }
   ],
   "source": [
    "### standard deviation \n",
    "e.std()"
   ]
  },
  {
   "cell_type": "code",
   "execution_count": 94,
   "id": "3e849ae0",
   "metadata": {},
   "outputs": [
    {
     "data": {
      "text/plain": [
       "array([[ 0, 10, 20, 30],\n",
       "       [ 0, 10, 20, 30],\n",
       "       [ 0, 10, 20, 30]])"
      ]
     },
     "execution_count": 94,
     "metadata": {},
     "output_type": "execute_result"
    }
   ],
   "source": [
    "### tile\n",
    "##this is used in broadcasting ,helps in replicating the values and helps in converting the 1dimension array to 2dimension array\n",
    "\n",
    "g=np.tile(np.arange(0,40,10),(3,1))\n",
    "g"
   ]
  },
  {
   "cell_type": "code",
   "execution_count": 95,
   "id": "4272bd13",
   "metadata": {},
   "outputs": [
    {
     "data": {
      "text/plain": [
       "array([[0],\n",
       "       [1],\n",
       "       [2]])"
      ]
     },
     "execution_count": 95,
     "metadata": {},
     "output_type": "execute_result"
    }
   ],
   "source": [
    "f=np.array([[0,1,2]])\n",
    "f.transpose()"
   ]
  },
  {
   "cell_type": "code",
   "execution_count": 96,
   "id": "66cb40fc",
   "metadata": {},
   "outputs": [
    {
     "data": {
      "text/plain": [
       "array([[ 0, 10, 20, 30],\n",
       "       [ 1, 11, 21, 31],\n",
       "       [ 2, 12, 22, 32]])"
      ]
     },
     "execution_count": 96,
     "metadata": {},
     "output_type": "execute_result"
    }
   ],
   "source": [
    "g+f.transpose()"
   ]
  },
  {
   "cell_type": "code",
   "execution_count": 97,
   "id": "5bb67a71",
   "metadata": {},
   "outputs": [
    {
     "data": {
      "text/plain": [
       "array([[1, 2, 3],\n",
       "       [1, 2, 3],\n",
       "       [1, 2, 3]])"
      ]
     },
     "execution_count": 97,
     "metadata": {},
     "output_type": "execute_result"
    }
   ],
   "source": [
    "p=np.tile([1,2,3],(3,1))\n",
    "p"
   ]
  },
  {
   "cell_type": "code",
   "execution_count": 98,
   "id": "ba507068",
   "metadata": {},
   "outputs": [
    {
     "data": {
      "text/plain": [
       "array([2, 6, 5, 8, 3, 1, 7, 2, 1])"
      ]
     },
     "execution_count": 98,
     "metadata": {},
     "output_type": "execute_result"
    }
   ],
   "source": [
    "### converting the 2dimension array to 1dimension array \n",
    "np.ravel(np.random.randint(1,10,size=(3,3)))"
   ]
  },
  {
   "cell_type": "code",
   "execution_count": 99,
   "id": "933fa8ec",
   "metadata": {},
   "outputs": [
    {
     "data": {
      "text/plain": [
       "array([[[ 0,  1],\n",
       "        [ 2,  3],\n",
       "        [ 4,  5]],\n",
       "\n",
       "       [[ 6,  7],\n",
       "        [ 8,  9],\n",
       "        [10, 11]],\n",
       "\n",
       "       [[12, 13],\n",
       "        [14, 15],\n",
       "        [16, 17]],\n",
       "\n",
       "       [[18, 19],\n",
       "        [20, 21],\n",
       "        [22, 23]]])"
      ]
     },
     "execution_count": 99,
     "metadata": {},
     "output_type": "execute_result"
    }
   ],
   "source": [
    "### creating the tensors(3 dimensional array)\n",
    "nigga=np.arange(4*3*2).reshape(4,3,2)\n",
    "nigga"
   ]
  },
  {
   "cell_type": "code",
   "execution_count": 100,
   "id": "1bd57a2d",
   "metadata": {},
   "outputs": [
    {
     "data": {
      "text/plain": [
       "5"
      ]
     },
     "execution_count": 100,
     "metadata": {},
     "output_type": "execute_result"
    }
   ],
   "source": [
    "nigga[0,2,1]"
   ]
  },
  {
   "cell_type": "code",
   "execution_count": 101,
   "id": "875ec423",
   "metadata": {},
   "outputs": [
    {
     "data": {
      "text/plain": [
       "array([ 1,  2,  5,  7,  3, 12,  3,  6,  7,  2,  1])"
      ]
     },
     "execution_count": 101,
     "metadata": {},
     "output_type": "execute_result"
    }
   ],
   "source": [
    "faltuuu=np.array([1,2,5,7,3,12,3,6,7,2,1])\n",
    "faltuuu"
   ]
  },
  {
   "cell_type": "code",
   "execution_count": 102,
   "id": "13adedc9",
   "metadata": {},
   "outputs": [
    {
     "data": {
      "text/plain": [
       "array([ 1,  2,  3,  5,  6,  7, 12])"
      ]
     },
     "execution_count": 102,
     "metadata": {},
     "output_type": "execute_result"
    }
   ],
   "source": [
    " ##### unique function \n",
    "unique_element=np.unique(faltuuu)\n",
    "unique_element"
   ]
  },
  {
   "cell_type": "code",
   "execution_count": 103,
   "id": "8f7fac74",
   "metadata": {},
   "outputs": [
    {
     "data": {
      "text/plain": [
       "11"
      ]
     },
     "execution_count": 103,
     "metadata": {},
     "output_type": "execute_result"
    }
   ],
   "source": [
    "len(faltuuu)"
   ]
  },
  {
   "cell_type": "code",
   "execution_count": 104,
   "id": "0ca1a7df",
   "metadata": {},
   "outputs": [
    {
     "data": {
      "text/plain": [
       "7"
      ]
     },
     "execution_count": 104,
     "metadata": {},
     "output_type": "execute_result"
    }
   ],
   "source": [
    "len(unique_element)"
   ]
  },
  {
   "cell_type": "code",
   "execution_count": 105,
   "id": "47d1a4f2",
   "metadata": {},
   "outputs": [
    {
     "data": {
      "text/plain": [
       "array([ 2.,  4.,  6.,  8., 10., 12., 14., 16., 18., 20.])"
      ]
     },
     "execution_count": 105,
     "metadata": {},
     "output_type": "execute_result"
    }
   ],
   "source": [
    "### linspace states that the number of values from the start to end should the value in the num\n",
    "\n",
    "import numpy as np\n",
    "np.linspace(2,20,num=10)"
   ]
  },
  {
   "cell_type": "code",
   "execution_count": 106,
   "id": "4ac39764",
   "metadata": {},
   "outputs": [
    {
     "data": {
      "text/plain": [
       "array([ 0.        ,  0.1010101 ,  0.2020202 ,  0.3030303 ,  0.4040404 ,\n",
       "        0.50505051,  0.60606061,  0.70707071,  0.80808081,  0.90909091,\n",
       "        1.01010101,  1.11111111,  1.21212121,  1.31313131,  1.41414141,\n",
       "        1.51515152,  1.61616162,  1.71717172,  1.81818182,  1.91919192,\n",
       "        2.02020202,  2.12121212,  2.22222222,  2.32323232,  2.42424242,\n",
       "        2.52525253,  2.62626263,  2.72727273,  2.82828283,  2.92929293,\n",
       "        3.03030303,  3.13131313,  3.23232323,  3.33333333,  3.43434343,\n",
       "        3.53535354,  3.63636364,  3.73737374,  3.83838384,  3.93939394,\n",
       "        4.04040404,  4.14141414,  4.24242424,  4.34343434,  4.44444444,\n",
       "        4.54545455,  4.64646465,  4.74747475,  4.84848485,  4.94949495,\n",
       "        5.05050505,  5.15151515,  5.25252525,  5.35353535,  5.45454545,\n",
       "        5.55555556,  5.65656566,  5.75757576,  5.85858586,  5.95959596,\n",
       "        6.06060606,  6.16161616,  6.26262626,  6.36363636,  6.46464646,\n",
       "        6.56565657,  6.66666667,  6.76767677,  6.86868687,  6.96969697,\n",
       "        7.07070707,  7.17171717,  7.27272727,  7.37373737,  7.47474747,\n",
       "        7.57575758,  7.67676768,  7.77777778,  7.87878788,  7.97979798,\n",
       "        8.08080808,  8.18181818,  8.28282828,  8.38383838,  8.48484848,\n",
       "        8.58585859,  8.68686869,  8.78787879,  8.88888889,  8.98989899,\n",
       "        9.09090909,  9.19191919,  9.29292929,  9.39393939,  9.49494949,\n",
       "        9.5959596 ,  9.6969697 ,  9.7979798 ,  9.8989899 , 10.        ])"
      ]
     },
     "execution_count": 106,
     "metadata": {},
     "output_type": "execute_result"
    }
   ],
   "source": [
    "np.linspace(0,10,100)"
   ]
  },
  {
   "cell_type": "code",
   "execution_count": null,
   "id": "877a7265",
   "metadata": {},
   "outputs": [],
   "source": []
  }
 ],
 "metadata": {
  "kernelspec": {
   "display_name": "Python 3 (ipykernel)",
   "language": "python",
   "name": "python3"
  },
  "language_info": {
   "codemirror_mode": {
    "name": "ipython",
    "version": 3
   },
   "file_extension": ".py",
   "mimetype": "text/x-python",
   "name": "python",
   "nbconvert_exporter": "python",
   "pygments_lexer": "ipython3",
   "version": "3.11.5"
  }
 },
 "nbformat": 4,
 "nbformat_minor": 5
}
